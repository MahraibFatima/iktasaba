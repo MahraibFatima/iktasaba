{
 "cells": [
  {
   "cell_type": "markdown",
   "id": "bd800e66",
   "metadata": {
    "papermill": {
     "duration": 0.005094,
     "end_time": "2025-02-20T20:34:06.173989",
     "exception": false,
     "start_time": "2025-02-20T20:34:06.168895",
     "status": "completed"
    },
    "tags": []
   },
   "source": [
    "**This notebook is an exercise in the [Introduction to Machine Learning](https://www.kaggle.com/learn/intro-to-machine-learning) course.  You can reference the tutorial at [this link](https://www.kaggle.com/dansbecker/model-validation).**\n",
    "\n",
    "---\n"
   ]
  },
  {
   "cell_type": "markdown",
   "id": "ecfebfb6",
   "metadata": {
    "papermill": {
     "duration": 0.003963,
     "end_time": "2025-02-20T20:34:06.182412",
     "exception": false,
     "start_time": "2025-02-20T20:34:06.178449",
     "status": "completed"
    },
    "tags": []
   },
   "source": [
    "## Recap\n",
    "You've built a model. In this exercise you will test how good your model is.\n",
    "\n",
    "Run the cell below to set up your coding environment where the previous exercise left off."
   ]
  },
  {
   "cell_type": "code",
   "execution_count": 1,
   "id": "a3374b1a",
   "metadata": {
    "execution": {
     "iopub.execute_input": "2025-02-20T20:34:06.191993Z",
     "iopub.status.busy": "2025-02-20T20:34:06.191624Z",
     "iopub.status.idle": "2025-02-20T20:34:09.109750Z",
     "shell.execute_reply": "2025-02-20T20:34:09.108406Z"
    },
    "papermill": {
     "duration": 2.925147,
     "end_time": "2025-02-20T20:34:09.111792",
     "exception": false,
     "start_time": "2025-02-20T20:34:06.186645",
     "status": "completed"
    },
    "tags": []
   },
   "outputs": [
    {
     "name": "stdout",
     "output_type": "stream",
     "text": [
      "First in-sample predictions: [208500. 181500. 223500. 140000. 250000.]\n",
      "Actual target values for those homes: [208500, 181500, 223500, 140000, 250000]\n",
      "Setup Complete\n"
     ]
    }
   ],
   "source": [
    "# Code you have previously used to load data\n",
    "import pandas as pd\n",
    "from sklearn.tree import DecisionTreeRegressor\n",
    "\n",
    "# Path of the file to read\n",
    "iowa_file_path = '../input/home-data-for-ml-course/train.csv'\n",
    "\n",
    "home_data = pd.read_csv(iowa_file_path)\n",
    "y = home_data.SalePrice\n",
    "feature_columns = ['LotArea', 'YearBuilt', '1stFlrSF', '2ndFlrSF', 'FullBath', 'BedroomAbvGr', 'TotRmsAbvGrd']\n",
    "X = home_data[feature_columns]\n",
    "\n",
    "# Specify Model\n",
    "iowa_model = DecisionTreeRegressor()\n",
    "# Fit Model\n",
    "iowa_model.fit(X, y)\n",
    "\n",
    "print(\"First in-sample predictions:\", iowa_model.predict(X.head()))\n",
    "print(\"Actual target values for those homes:\", y.head().tolist())\n",
    "\n",
    "# Set up code checking\n",
    "from learntools.core import binder\n",
    "binder.bind(globals())\n",
    "from learntools.machine_learning.ex4 import *\n",
    "print(\"Setup Complete\")"
   ]
  },
  {
   "cell_type": "markdown",
   "id": "ad587389",
   "metadata": {
    "papermill": {
     "duration": 0.00432,
     "end_time": "2025-02-20T20:34:09.120394",
     "exception": false,
     "start_time": "2025-02-20T20:34:09.116074",
     "status": "completed"
    },
    "tags": []
   },
   "source": [
    "# Exercises\n",
    "\n",
    "## Step 1: Split Your Data\n",
    "Use the `train_test_split` function to split up your data.\n",
    "\n",
    "Give it the argument `random_state=1` so the `check` functions know what to expect when verifying your code.\n",
    "\n",
    "Recall, your features are loaded in the DataFrame **X** and your target is loaded in **y**.\n"
   ]
  },
  {
   "cell_type": "code",
   "execution_count": 2,
   "id": "cd654ad8",
   "metadata": {
    "execution": {
     "iopub.execute_input": "2025-02-20T20:34:09.129831Z",
     "iopub.status.busy": "2025-02-20T20:34:09.129453Z",
     "iopub.status.idle": "2025-02-20T20:34:09.144262Z",
     "shell.execute_reply": "2025-02-20T20:34:09.143073Z"
    },
    "papermill": {
     "duration": 0.021446,
     "end_time": "2025-02-20T20:34:09.145928",
     "exception": false,
     "start_time": "2025-02-20T20:34:09.124482",
     "status": "completed"
    },
    "tags": []
   },
   "outputs": [
    {
     "data": {
      "application/javascript": [
       "parent.postMessage({\"jupyterEvent\": \"custom.exercise_interaction\", \"data\": {\"outcomeType\": 1, \"valueTowardsCompletion\": 0.25, \"interactionType\": 1, \"questionType\": 2, \"questionId\": \"1_SplitData\", \"learnToolsVersion\": \"0.3.4\", \"failureMessage\": \"\", \"exceptionClass\": \"\", \"trace\": \"\"}}, \"*\")"
      ],
      "text/plain": [
       "<IPython.core.display.Javascript object>"
      ]
     },
     "metadata": {},
     "output_type": "display_data"
    },
    {
     "data": {
      "text/markdown": [
       "<span style=\"color:#33cc33\">Correct</span>"
      ],
      "text/plain": [
       "Correct"
      ]
     },
     "metadata": {},
     "output_type": "display_data"
    }
   ],
   "source": [
    "# Import the train_test_split function and uncomment\n",
    "from sklearn.model_selection import train_test_split\n",
    "# fill in and uncomment\n",
    "train_X, val_X, train_y, val_y = train_test_split(X,y, random_state= 1)\n",
    "\n",
    "# Check your answer\n",
    "step_1.check()"
   ]
  },
  {
   "cell_type": "code",
   "execution_count": 3,
   "id": "12ad3715",
   "metadata": {
    "execution": {
     "iopub.execute_input": "2025-02-20T20:34:09.156205Z",
     "iopub.status.busy": "2025-02-20T20:34:09.155835Z",
     "iopub.status.idle": "2025-02-20T20:34:09.159641Z",
     "shell.execute_reply": "2025-02-20T20:34:09.158606Z"
    },
    "papermill": {
     "duration": 0.010764,
     "end_time": "2025-02-20T20:34:09.161244",
     "exception": false,
     "start_time": "2025-02-20T20:34:09.150480",
     "status": "completed"
    },
    "tags": []
   },
   "outputs": [],
   "source": [
    "# The lines below will show you a hint or the solution.\n",
    "# step_1.hint() \n",
    "#step_1.solution()\n"
   ]
  },
  {
   "cell_type": "markdown",
   "id": "535a6254",
   "metadata": {
    "papermill": {
     "duration": 0.003947,
     "end_time": "2025-02-20T20:34:09.169477",
     "exception": false,
     "start_time": "2025-02-20T20:34:09.165530",
     "status": "completed"
    },
    "tags": []
   },
   "source": [
    "## Step 2: Specify and Fit the Model\n",
    "\n",
    "Create a `DecisionTreeRegressor` model and fit it to the relevant data.\n",
    "Set `random_state` to 1 again when creating the model."
   ]
  },
  {
   "cell_type": "code",
   "execution_count": 4,
   "id": "1b33c180",
   "metadata": {
    "execution": {
     "iopub.execute_input": "2025-02-20T20:34:09.179348Z",
     "iopub.status.busy": "2025-02-20T20:34:09.178951Z",
     "iopub.status.idle": "2025-02-20T20:34:09.205179Z",
     "shell.execute_reply": "2025-02-20T20:34:09.204342Z"
    },
    "papermill": {
     "duration": 0.033072,
     "end_time": "2025-02-20T20:34:09.206798",
     "exception": false,
     "start_time": "2025-02-20T20:34:09.173726",
     "status": "completed"
    },
    "tags": []
   },
   "outputs": [
    {
     "name": "stdout",
     "output_type": "stream",
     "text": [
      "[186500. 184000. 130000.  92000. 164500. 220000. 335000. 144152. 215000.\n",
      " 262000.]\n",
      "[186500. 184000. 130000.  92000. 164500. 220000. 335000. 144152. 215000.\n",
      " 262000.]\n"
     ]
    },
    {
     "data": {
      "application/javascript": [
       "parent.postMessage({\"jupyterEvent\": \"custom.exercise_interaction\", \"data\": {\"outcomeType\": 1, \"valueTowardsCompletion\": 0.25, \"interactionType\": 1, \"questionType\": 2, \"questionId\": \"2_FitModelWithTrain\", \"learnToolsVersion\": \"0.3.4\", \"failureMessage\": \"\", \"exceptionClass\": \"\", \"trace\": \"\"}}, \"*\")"
      ],
      "text/plain": [
       "<IPython.core.display.Javascript object>"
      ]
     },
     "metadata": {},
     "output_type": "display_data"
    },
    {
     "data": {
      "text/markdown": [
       "<span style=\"color:#33cc33\">Correct</span>"
      ],
      "text/plain": [
       "Correct"
      ]
     },
     "metadata": {},
     "output_type": "display_data"
    }
   ],
   "source": [
    "# You imported DecisionTreeRegressor in your last exercise\n",
    "# and that code has been copied to the setup code above. So, no need to\n",
    "# import it again\n",
    "from sklearn.tree import DecisionTreeClassifier\n",
    "# Specify the model\n",
    "iowa_model = DecisionTreeRegressor(random_state=1)\n",
    "\n",
    "# Fit iowa_model with the training data.\n",
    "iowa_model.fit(train_X, train_y)\n",
    "\n",
    "# Check your answer\n",
    "step_2.check()"
   ]
  },
  {
   "cell_type": "code",
   "execution_count": 5,
   "id": "5d6d5e88",
   "metadata": {
    "execution": {
     "iopub.execute_input": "2025-02-20T20:34:09.217545Z",
     "iopub.status.busy": "2025-02-20T20:34:09.217157Z",
     "iopub.status.idle": "2025-02-20T20:34:09.220765Z",
     "shell.execute_reply": "2025-02-20T20:34:09.219853Z"
    },
    "papermill": {
     "duration": 0.010795,
     "end_time": "2025-02-20T20:34:09.222418",
     "exception": false,
     "start_time": "2025-02-20T20:34:09.211623",
     "status": "completed"
    },
    "tags": []
   },
   "outputs": [],
   "source": [
    "# step_2.hint()\n",
    "#step_2.solution()"
   ]
  },
  {
   "cell_type": "markdown",
   "id": "43d0f44f",
   "metadata": {
    "papermill": {
     "duration": 0.004253,
     "end_time": "2025-02-20T20:34:09.231481",
     "exception": false,
     "start_time": "2025-02-20T20:34:09.227228",
     "status": "completed"
    },
    "tags": []
   },
   "source": [
    "## Step 3: Make Predictions with Validation data\n"
   ]
  },
  {
   "cell_type": "code",
   "execution_count": 6,
   "id": "c1b098a4",
   "metadata": {
    "execution": {
     "iopub.execute_input": "2025-02-20T20:34:09.242307Z",
     "iopub.status.busy": "2025-02-20T20:34:09.241897Z",
     "iopub.status.idle": "2025-02-20T20:34:09.253171Z",
     "shell.execute_reply": "2025-02-20T20:34:09.252101Z"
    },
    "papermill": {
     "duration": 0.018598,
     "end_time": "2025-02-20T20:34:09.254900",
     "exception": false,
     "start_time": "2025-02-20T20:34:09.236302",
     "status": "completed"
    },
    "tags": []
   },
   "outputs": [
    {
     "data": {
      "application/javascript": [
       "parent.postMessage({\"jupyterEvent\": \"custom.exercise_interaction\", \"data\": {\"outcomeType\": 1, \"valueTowardsCompletion\": 0.25, \"interactionType\": 1, \"questionType\": 2, \"questionId\": \"3_ValPreds\", \"learnToolsVersion\": \"0.3.4\", \"failureMessage\": \"\", \"exceptionClass\": \"\", \"trace\": \"\"}}, \"*\")"
      ],
      "text/plain": [
       "<IPython.core.display.Javascript object>"
      ]
     },
     "metadata": {},
     "output_type": "display_data"
    },
    {
     "data": {
      "text/markdown": [
       "<span style=\"color:#33cc33\">Correct</span>"
      ],
      "text/plain": [
       "Correct"
      ]
     },
     "metadata": {},
     "output_type": "display_data"
    }
   ],
   "source": [
    "# Predict with all validation observations\n",
    "val_predictions = iowa_model.predict(val_X)\n",
    "\n",
    "# Check your answer\n",
    "step_3.check()"
   ]
  },
  {
   "cell_type": "code",
   "execution_count": 7,
   "id": "60925b7d",
   "metadata": {
    "execution": {
     "iopub.execute_input": "2025-02-20T20:34:09.266236Z",
     "iopub.status.busy": "2025-02-20T20:34:09.265781Z",
     "iopub.status.idle": "2025-02-20T20:34:09.270085Z",
     "shell.execute_reply": "2025-02-20T20:34:09.268979Z"
    },
    "papermill": {
     "duration": 0.011992,
     "end_time": "2025-02-20T20:34:09.271808",
     "exception": false,
     "start_time": "2025-02-20T20:34:09.259816",
     "status": "completed"
    },
    "tags": []
   },
   "outputs": [],
   "source": [
    "# step_3.hint()\n",
    "#step_3.solution()"
   ]
  },
  {
   "cell_type": "markdown",
   "id": "d6a65cff",
   "metadata": {
    "papermill": {
     "duration": 0.004486,
     "end_time": "2025-02-20T20:34:09.281149",
     "exception": false,
     "start_time": "2025-02-20T20:34:09.276663",
     "status": "completed"
    },
    "tags": []
   },
   "source": [
    "Inspect your predictions and actual values from validation data."
   ]
  },
  {
   "cell_type": "code",
   "execution_count": 8,
   "id": "b242b64f",
   "metadata": {
    "execution": {
     "iopub.execute_input": "2025-02-20T20:34:09.291945Z",
     "iopub.status.busy": "2025-02-20T20:34:09.291589Z",
     "iopub.status.idle": "2025-02-20T20:34:09.307287Z",
     "shell.execute_reply": "2025-02-20T20:34:09.306051Z"
    },
    "papermill": {
     "duration": 0.023114,
     "end_time": "2025-02-20T20:34:09.308996",
     "exception": false,
     "start_time": "2025-02-20T20:34:09.285882",
     "status": "completed"
    },
    "tags": []
   },
   "outputs": [
    {
     "name": "stdout",
     "output_type": "stream",
     "text": [
      "      LotArea  YearBuilt  1stFlrSF  2ndFlrSF  FullBath  BedroomAbvGr  \\\n",
      "6       10084       2004      1694         0         2             3   \n",
      "807     21384       1923      1072       504         1             3   \n",
      "955      7136       1946       979       979         2             4   \n",
      "1040    13125       1957      1803         0         2             3   \n",
      "701      9600       1969      1164         0         1             3   \n",
      "...       ...        ...       ...       ...       ...           ...   \n",
      "715     10140       1974      1350         0         2             3   \n",
      "905      9920       1954      1063         0         1             3   \n",
      "1096     6882       1914       773       582         1             3   \n",
      "235      1680       1971       483       504         1             2   \n",
      "1061    18000       1935       894         0         1             2   \n",
      "\n",
      "      TotRmsAbvGrd  \n",
      "6                7  \n",
      "807              6  \n",
      "955              8  \n",
      "1040             8  \n",
      "701              6  \n",
      "...            ...  \n",
      "715              7  \n",
      "905              6  \n",
      "1096             7  \n",
      "235              5  \n",
      "1061             6  \n",
      "\n",
      "[1095 rows x 7 columns]\n",
      "      LotArea  YearBuilt  1stFlrSF  2ndFlrSF  FullBath  BedroomAbvGr  \\\n",
      "258     12435       2001       963       829         2             3   \n",
      "267      8400       1939      1052       720         2             4   \n",
      "288      9819       1967       900         0         1             3   \n",
      "649      1936       1970       630         0         1             1   \n",
      "1233    12160       1959      1188         0         1             3   \n",
      "...       ...        ...       ...       ...       ...           ...   \n",
      "1017     5814       1984      1360         0         1             1   \n",
      "534      9056       2004       707       707         2             3   \n",
      "1334     2368       1970       765       600         1             3   \n",
      "1369    10635       2003      1668         0         2             3   \n",
      "628     11606       1969      1040      1040         1             5   \n",
      "\n",
      "      TotRmsAbvGrd  \n",
      "258              7  \n",
      "267              8  \n",
      "288              5  \n",
      "649              3  \n",
      "1233             6  \n",
      "...            ...  \n",
      "1017             4  \n",
      "534              6  \n",
      "1334             7  \n",
      "1369             8  \n",
      "628              9  \n",
      "\n",
      "[365 rows x 7 columns]\n"
     ]
    }
   ],
   "source": [
    "# print the top few validation predictions\n",
    "print(train_X)\n",
    "# print the top few actual prices from validation data\n",
    "print(val_X)"
   ]
  },
  {
   "cell_type": "markdown",
   "id": "a7328083",
   "metadata": {
    "papermill": {
     "duration": 0.004482,
     "end_time": "2025-02-20T20:34:09.318396",
     "exception": false,
     "start_time": "2025-02-20T20:34:09.313914",
     "status": "completed"
    },
    "tags": []
   },
   "source": [
    "What do you notice that is different from what you saw with in-sample predictions (which are printed after the top code cell in this page).\n",
    "\n",
    "Do you remember why validation predictions differ from in-sample (or training) predictions? This is an important idea from the last lesson.\n",
    "\n",
    "## Step 4: Calculate the Mean Absolute Error in Validation Data\n"
   ]
  },
  {
   "cell_type": "code",
   "execution_count": 9,
   "id": "0ceaf562",
   "metadata": {
    "execution": {
     "iopub.execute_input": "2025-02-20T20:34:09.329186Z",
     "iopub.status.busy": "2025-02-20T20:34:09.328802Z",
     "iopub.status.idle": "2025-02-20T20:34:09.338117Z",
     "shell.execute_reply": "2025-02-20T20:34:09.337082Z"
    },
    "papermill": {
     "duration": 0.01653,
     "end_time": "2025-02-20T20:34:09.339703",
     "exception": false,
     "start_time": "2025-02-20T20:34:09.323173",
     "status": "completed"
    },
    "tags": []
   },
   "outputs": [
    {
     "name": "stdout",
     "output_type": "stream",
     "text": [
      "29652.931506849316\n"
     ]
    },
    {
     "data": {
      "application/javascript": [
       "parent.postMessage({\"jupyterEvent\": \"custom.exercise_interaction\", \"data\": {\"outcomeType\": 1, \"valueTowardsCompletion\": 0.25, \"interactionType\": 1, \"questionType\": 1, \"questionId\": \"4_MAE\", \"learnToolsVersion\": \"0.3.4\", \"failureMessage\": \"\", \"exceptionClass\": \"\", \"trace\": \"\"}}, \"*\")"
      ],
      "text/plain": [
       "<IPython.core.display.Javascript object>"
      ]
     },
     "metadata": {},
     "output_type": "display_data"
    },
    {
     "data": {
      "text/markdown": [
       "<span style=\"color:#33cc33\">Correct</span>"
      ],
      "text/plain": [
       "Correct"
      ]
     },
     "metadata": {},
     "output_type": "display_data"
    }
   ],
   "source": [
    "from sklearn.metrics import mean_absolute_error\n",
    "val_mae = mean_absolute_error(val_y, val_predictions)\n",
    "\n",
    "# uncomment following line to see the validation_mae\n",
    "print(val_mae)\n",
    "\n",
    "# Check your answer\n",
    "step_4.check()"
   ]
  },
  {
   "cell_type": "code",
   "execution_count": 10,
   "id": "753be320",
   "metadata": {
    "execution": {
     "iopub.execute_input": "2025-02-20T20:34:09.351447Z",
     "iopub.status.busy": "2025-02-20T20:34:09.351092Z",
     "iopub.status.idle": "2025-02-20T20:34:09.354731Z",
     "shell.execute_reply": "2025-02-20T20:34:09.353799Z"
    },
    "papermill": {
     "duration": 0.011244,
     "end_time": "2025-02-20T20:34:09.356345",
     "exception": false,
     "start_time": "2025-02-20T20:34:09.345101",
     "status": "completed"
    },
    "tags": []
   },
   "outputs": [],
   "source": [
    "# step_4.hint()\n",
    "# step_4.solution()"
   ]
  },
  {
   "cell_type": "markdown",
   "id": "31548f8b",
   "metadata": {
    "papermill": {
     "duration": 0.005093,
     "end_time": "2025-02-20T20:34:09.366527",
     "exception": false,
     "start_time": "2025-02-20T20:34:09.361434",
     "status": "completed"
    },
    "tags": []
   },
   "source": [
    "Is that MAE good?  There isn't a general rule for what values are good that applies across applications. But you'll see how to use (and improve) this number in the next step.\n",
    "\n",
    "# Keep Going\n",
    "\n",
    "You are ready for **[Underfitting and Overfitting](https://www.kaggle.com/dansbecker/underfitting-and-overfitting).**\n"
   ]
  },
  {
   "cell_type": "markdown",
   "id": "88d159f6",
   "metadata": {
    "papermill": {
     "duration": 0.004674,
     "end_time": "2025-02-20T20:34:09.376326",
     "exception": false,
     "start_time": "2025-02-20T20:34:09.371652",
     "status": "completed"
    },
    "tags": []
   },
   "source": [
    "---\n",
    "\n",
    "\n",
    "\n",
    "\n",
    "*Have questions or comments? Visit the [course discussion forum](https://www.kaggle.com/learn/intro-to-machine-learning/discussion) to chat with other learners.*"
   ]
  }
 ],
 "metadata": {
  "kaggle": {
   "accelerator": "none",
   "dataSources": [
    {
     "databundleVersionId": 111096,
     "sourceId": 10211,
     "sourceType": "competition"
    },
    {
     "datasetId": 11167,
     "sourceId": 15520,
     "sourceType": "datasetVersion"
    },
    {
     "datasetId": 2709,
     "sourceId": 38454,
     "sourceType": "datasetVersion"
    }
   ],
   "isGpuEnabled": false,
   "isInternetEnabled": false,
   "language": "python",
   "sourceType": "notebook"
  },
  "kernelspec": {
   "display_name": "Python 3",
   "language": "python",
   "name": "python3"
  },
  "language_info": {
   "codemirror_mode": {
    "name": "ipython",
    "version": 3
   },
   "file_extension": ".py",
   "mimetype": "text/x-python",
   "name": "python",
   "nbconvert_exporter": "python",
   "pygments_lexer": "ipython3",
   "version": "3.10.12"
  },
  "papermill": {
   "default_parameters": {},
   "duration": 6.749626,
   "end_time": "2025-02-20T20:34:10.101707",
   "environment_variables": {},
   "exception": null,
   "input_path": "__notebook__.ipynb",
   "output_path": "__notebook__.ipynb",
   "parameters": {},
   "start_time": "2025-02-20T20:34:03.352081",
   "version": "2.6.0"
  }
 },
 "nbformat": 4,
 "nbformat_minor": 5
}
